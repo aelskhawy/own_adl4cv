{
 "cells": [
  {
   "cell_type": "code",
   "execution_count": 1,
   "metadata": {},
   "outputs": [],
   "source": [
    "import numpy as np\n",
    "import pandas as pd\n",
    "import matplotlib.pyplot as plt\n",
    "%matplotlib inline"
   ]
  },
  {
   "cell_type": "code",
   "execution_count": 184,
   "metadata": {},
   "outputs": [],
   "source": [
    "#filename = './logs/2018-12-17_18-58-39-.log'\n",
    "#new_file = './logs/2018-12-17_23-23-09-.log'\n",
    "\n",
    "#filename = './logs/2019-01-12_15-29-29-.log'\n",
    "#filename = './logs/2019-01-14_14-09-12-.log' # small num points\n",
    "#filename = './logs/2019-01-14_17-55-31-.log' # original num points\n",
    "filename = './logs/2019-01-14_23-28-29-.log' # 700 and 350 num points"
   ]
  },
  {
   "cell_type": "code",
   "execution_count": 185,
   "metadata": {},
   "outputs": [],
   "source": [
    "df = pd.read_csv(filename, sep='|', header=1, skiprows=1)\n",
    "df.columns = [str.strip(x) for x in df.columns]"
   ]
  },
  {
   "cell_type": "code",
   "execution_count": 186,
   "metadata": {
    "scrolled": true
   },
   "outputs": [
    {
     "name": "stdout",
     "output_type": "stream",
     "text": [
      "(1095, 20)\n"
     ]
    },
    {
     "data": {
      "text/html": [
       "<div>\n",
       "<style scoped>\n",
       "    .dataframe tbody tr th:only-of-type {\n",
       "        vertical-align: middle;\n",
       "    }\n",
       "\n",
       "    .dataframe tbody tr th {\n",
       "        vertical-align: top;\n",
       "    }\n",
       "\n",
       "    .dataframe thead th {\n",
       "        text-align: right;\n",
       "    }\n",
       "</style>\n",
       "<table border=\"1\" class=\"dataframe\">\n",
       "  <thead>\n",
       "    <tr style=\"text-align: right;\">\n",
       "      <th></th>\n",
       "      <th>timestamp</th>\n",
       "      <th>epoch</th>\n",
       "      <th>batches_processed</th>\n",
       "      <th>mean_loss</th>\n",
       "      <th>segmentation_accuracy</th>\n",
       "      <th>box_IOU_ground</th>\n",
       "      <th>box_IOU_3d</th>\n",
       "      <th>box_accuracy</th>\n",
       "      <th>seg_loss</th>\n",
       "      <th>stage1_center_loss</th>\n",
       "      <th>center_loss</th>\n",
       "      <th>heading_class_loss</th>\n",
       "      <th>heading_residual_normalized_loss</th>\n",
       "      <th>size_class_loss</th>\n",
       "      <th>size_residuals_normalized_loss</th>\n",
       "      <th>corner_loss</th>\n",
       "      <th>total_loss</th>\n",
       "      <th>lr</th>\n",
       "      <th>bn_decay</th>\n",
       "      <th>flag</th>\n",
       "    </tr>\n",
       "  </thead>\n",
       "  <tbody>\n",
       "    <tr>\n",
       "      <th>1090</th>\n",
       "      <td>2019-01-15 04:06:13,957 -</td>\n",
       "      <td>72</td>\n",
       "      <td>110</td>\n",
       "      <td>3.675033</td>\n",
       "      <td>0.941229</td>\n",
       "      <td>0.763207</td>\n",
       "      <td>0.708539</td>\n",
       "      <td>0.651563</td>\n",
       "      <td>0.160159</td>\n",
       "      <td>0.209770</td>\n",
       "      <td>0.059420</td>\n",
       "      <td>0.392338</td>\n",
       "      <td>0.026927</td>\n",
       "      <td>0.000046</td>\n",
       "      <td>0.022318</td>\n",
       "      <td>0.083248</td>\n",
       "      <td>2.639114</td>\n",
       "      <td>0.000063</td>\n",
       "      <td>0.96875</td>\n",
       "      <td>Train</td>\n",
       "    </tr>\n",
       "    <tr>\n",
       "      <th>1091</th>\n",
       "      <td>2019-01-15 04:06:26,839 -</td>\n",
       "      <td>72</td>\n",
       "      <td>120</td>\n",
       "      <td>4.215428</td>\n",
       "      <td>0.947588</td>\n",
       "      <td>0.759255</td>\n",
       "      <td>0.703240</td>\n",
       "      <td>0.628906</td>\n",
       "      <td>0.153888</td>\n",
       "      <td>0.303381</td>\n",
       "      <td>0.079264</td>\n",
       "      <td>0.482969</td>\n",
       "      <td>0.022645</td>\n",
       "      <td>0.000080</td>\n",
       "      <td>0.027545</td>\n",
       "      <td>0.104323</td>\n",
       "      <td>3.066623</td>\n",
       "      <td>0.000063</td>\n",
       "      <td>0.96875</td>\n",
       "      <td>Train</td>\n",
       "    </tr>\n",
       "    <tr>\n",
       "      <th>1092</th>\n",
       "      <td>2019-01-15 04:06:39,702 -</td>\n",
       "      <td>72</td>\n",
       "      <td>130</td>\n",
       "      <td>4.010019</td>\n",
       "      <td>0.941984</td>\n",
       "      <td>0.765959</td>\n",
       "      <td>0.714059</td>\n",
       "      <td>0.656250</td>\n",
       "      <td>0.162695</td>\n",
       "      <td>0.541840</td>\n",
       "      <td>0.490294</td>\n",
       "      <td>0.437778</td>\n",
       "      <td>0.035201</td>\n",
       "      <td>0.000452</td>\n",
       "      <td>0.021793</td>\n",
       "      <td>0.304938</td>\n",
       "      <td>5.822331</td>\n",
       "      <td>0.000063</td>\n",
       "      <td>0.96875</td>\n",
       "      <td>Train</td>\n",
       "    </tr>\n",
       "    <tr>\n",
       "      <th>1093</th>\n",
       "      <td>2019-01-15 04:06:52,562 -</td>\n",
       "      <td>72</td>\n",
       "      <td>140</td>\n",
       "      <td>4.278283</td>\n",
       "      <td>0.941135</td>\n",
       "      <td>0.763466</td>\n",
       "      <td>0.709199</td>\n",
       "      <td>0.657813</td>\n",
       "      <td>0.171866</td>\n",
       "      <td>0.488567</td>\n",
       "      <td>0.602577</td>\n",
       "      <td>0.486307</td>\n",
       "      <td>0.040249</td>\n",
       "      <td>0.000265</td>\n",
       "      <td>0.025263</td>\n",
       "      <td>0.362697</td>\n",
       "      <td>6.686791</td>\n",
       "      <td>0.000063</td>\n",
       "      <td>0.96875</td>\n",
       "      <td>Train</td>\n",
       "    </tr>\n",
       "    <tr>\n",
       "      <th>1094</th>\n",
       "      <td>2019-01-15 04:07:42,641 -</td>\n",
       "      <td>72</td>\n",
       "      <td>121</td>\n",
       "      <td>7.426111</td>\n",
       "      <td>0.871448</td>\n",
       "      <td>0.713739</td>\n",
       "      <td>0.663111</td>\n",
       "      <td>0.580708</td>\n",
       "      <td>0.551637</td>\n",
       "      <td>0.435116</td>\n",
       "      <td>0.437303</td>\n",
       "      <td>0.736874</td>\n",
       "      <td>0.047414</td>\n",
       "      <td>0.000232</td>\n",
       "      <td>0.031393</td>\n",
       "      <td>0.314881</td>\n",
       "      <td>6.886124</td>\n",
       "      <td>0.000063</td>\n",
       "      <td>0.96875</td>\n",
       "      <td>Val</td>\n",
       "    </tr>\n",
       "  </tbody>\n",
       "</table>\n",
       "</div>"
      ],
      "text/plain": [
       "                        timestamp  epoch  batches_processed  mean_loss  \\\n",
       "1090  2019-01-15 04:06:13,957 -       72                110   3.675033   \n",
       "1091  2019-01-15 04:06:26,839 -       72                120   4.215428   \n",
       "1092  2019-01-15 04:06:39,702 -       72                130   4.010019   \n",
       "1093  2019-01-15 04:06:52,562 -       72                140   4.278283   \n",
       "1094  2019-01-15 04:07:42,641 -       72                121   7.426111   \n",
       "\n",
       "      segmentation_accuracy  box_IOU_ground  box_IOU_3d  box_accuracy  \\\n",
       "1090               0.941229        0.763207    0.708539      0.651563   \n",
       "1091               0.947588        0.759255    0.703240      0.628906   \n",
       "1092               0.941984        0.765959    0.714059      0.656250   \n",
       "1093               0.941135        0.763466    0.709199      0.657813   \n",
       "1094               0.871448        0.713739    0.663111      0.580708   \n",
       "\n",
       "      seg_loss  stage1_center_loss  center_loss  heading_class_loss  \\\n",
       "1090  0.160159            0.209770     0.059420            0.392338   \n",
       "1091  0.153888            0.303381     0.079264            0.482969   \n",
       "1092  0.162695            0.541840     0.490294            0.437778   \n",
       "1093  0.171866            0.488567     0.602577            0.486307   \n",
       "1094  0.551637            0.435116     0.437303            0.736874   \n",
       "\n",
       "      heading_residual_normalized_loss  size_class_loss  \\\n",
       "1090                          0.026927         0.000046   \n",
       "1091                          0.022645         0.000080   \n",
       "1092                          0.035201         0.000452   \n",
       "1093                          0.040249         0.000265   \n",
       "1094                          0.047414         0.000232   \n",
       "\n",
       "      size_residuals_normalized_loss  corner_loss  total_loss        lr  \\\n",
       "1090                        0.022318     0.083248    2.639114  0.000063   \n",
       "1091                        0.027545     0.104323    3.066623  0.000063   \n",
       "1092                        0.021793     0.304938    5.822331  0.000063   \n",
       "1093                        0.025263     0.362697    6.686791  0.000063   \n",
       "1094                        0.031393     0.314881    6.886124  0.000063   \n",
       "\n",
       "      bn_decay    flag  \n",
       "1090   0.96875   Train  \n",
       "1091   0.96875   Train  \n",
       "1092   0.96875   Train  \n",
       "1093   0.96875   Train  \n",
       "1094   0.96875     Val  "
      ]
     },
     "execution_count": 186,
     "metadata": {},
     "output_type": "execute_result"
    }
   ],
   "source": [
    "print(df.shape)\n",
    "df.tail()\n"
   ]
  },
  {
   "cell_type": "code",
   "execution_count": 187,
   "metadata": {
    "scrolled": true
   },
   "outputs": [
    {
     "data": {
      "text/plain": [
       "flag\n",
       " Train    AxesSubplot(0.125,0.125;0.775x0.755)\n",
       " Val      AxesSubplot(0.125,0.125;0.775x0.755)\n",
       "Name: segmentation_accuracy, dtype: object"
      ]
     },
     "execution_count": 187,
     "metadata": {},
     "output_type": "execute_result"
    },
    {
     "data": {
      "image/png": "[encoded data removed]",
      "text/plain": [
       "<Figure size 432x288 with 1 Axes>"
      ]
     },
     "metadata": {
      "needs_background": "light"
     },
     "output_type": "display_data"
    }
   ],
   "source": [
    "df.groupby('flag')['segmentation_accuracy'].plot()"
   ]
  },
  {
   "cell_type": "code",
   "execution_count": 188,
   "metadata": {},
   "outputs": [
    {
     "data": {
      "text/plain": [
       "flag\n",
       " Train    AxesSubplot(0.125,0.125;0.775x0.755)\n",
       " Val      AxesSubplot(0.125,0.125;0.775x0.755)\n",
       "Name: box_accuracy, dtype: object"
      ]
     },
     "execution_count": 188,
     "metadata": {},
     "output_type": "execute_result"
    },
    {
     "data": {
      "image/png": "[encoded data removed]",
      "text/plain": [
       "<Figure size 432x288 with 1 Axes>"
      ]
     },
     "metadata": {
      "needs_background": "light"
     },
     "output_type": "display_data"
    }
   ],
   "source": [
    "df.groupby('flag')['box_accuracy'].plot()"
   ]
  },
  {
   "cell_type": "code",
   "execution_count": 177,
   "metadata": {},
   "outputs": [
    {
     "data": {
      "text/plain": [
       "flag\n",
       " Train    AxesSubplot(0.125,0.125;0.775x0.755)\n",
       " Val      AxesSubplot(0.125,0.125;0.775x0.755)\n",
       "Name: box_accuracy, dtype: object"
      ]
     },
     "execution_count": 177,
     "metadata": {},
     "output_type": "execute_result"
    },
    {
     "data": {
      "image/png": "[encoded data removed]",
      "text/plain": [
       "<Figure size 432x288 with 1 Axes>"
      ]
     },
     "metadata": {
      "needs_background": "light"
     },
     "output_type": "display_data"
    }
   ],
   "source": [
    "df.groupby('flag')['box_accuracy'].plot()"
   ]
  },
  {
   "cell_type": "code",
   "execution_count": 21,
   "metadata": {},
   "outputs": [
    {
     "data": {
      "text/plain": [
       "<matplotlib.axes._subplots.AxesSubplot at 0x7fed8c644c18>"
      ]
     },
     "execution_count": 21,
     "metadata": {},
     "output_type": "execute_result"
    },
    {
     "data": {
      "image/png": "[encoded data removed]",
      "text/plain": [
       "<Figure size 432x288 with 1 Axes>"
      ]
     },
     "metadata": {
      "needs_background": "light"
     },
     "output_type": "display_data"
    }
   ],
   "source": [
    "df[df['flag'] == ' Val']['corner_loss'].plot()"
   ]
  },
  {
   "cell_type": "code",
   "execution_count": 21,
   "metadata": {},
   "outputs": [
    {
     "data": {
      "text/plain": [
       "Index(['timestamp', 'epoch', 'batches_processed', 'mean_loss',\n",
       "       'segmentation_accuracy', 'box_IOU_ground', 'box_IOU_3d', 'box_accuracy',\n",
       "       'seg_loss', 'stage1_center_loss', 'center_loss', 'heading_class_loss',\n",
       "       'heading_residual_normalized_loss', 'size_class_loss',\n",
       "       'size_residuals_normalized_loss', 'corner_loss', 'total_loss', 'flag'],\n",
       "      dtype='object')"
      ]
     },
     "execution_count": 21,
     "metadata": {},
     "output_type": "execute_result"
    }
   ],
   "source": [
    "df.columns"
   ]
  },
  {
   "cell_type": "code",
   "execution_count": 142,
   "metadata": {},
   "outputs": [
    {
     "data": {
      "text/plain": [
       "(687, 17)"
      ]
     },
     "execution_count": 142,
     "metadata": {},
     "output_type": "execute_result"
    },
    {
     "data": {
      "image/png": "[encoded data removed]",
      "text/plain": [
       "<Figure size 432x288 with 1 Axes>"
      ]
     },
     "metadata": {
      "needs_background": "light"
     },
     "output_type": "display_data"
    }
   ],
   "source": [
    "df2 = pd.read_csv(new_file, sep='|', header=1, skiprows=1)\n",
    "#df2[' total_loss'].plot()\n",
    "df2[' mean_loss '].plot()\n",
    "df2.shape"
   ]
  },
  {
   "cell_type": "code",
   "execution_count": 144,
   "metadata": {},
   "outputs": [
    {
     "data": {
      "text/html": [
       "<div>\n",
       "<style scoped>\n",
       "    .dataframe tbody tr th:only-of-type {\n",
       "        vertical-align: middle;\n",
       "    }\n",
       "\n",
       "    .dataframe tbody tr th {\n",
       "        vertical-align: top;\n",
       "    }\n",
       "\n",
       "    .dataframe thead th {\n",
       "        text-align: right;\n",
       "    }\n",
       "</style>\n",
       "<table border=\"1\" class=\"dataframe\">\n",
       "  <thead>\n",
       "    <tr style=\"text-align: right;\">\n",
       "      <th></th>\n",
       "      <th>timestamp</th>\n",
       "      <th>epoch</th>\n",
       "      <th>batches_processed</th>\n",
       "      <th>mean_loss</th>\n",
       "      <th>segmentation_accuracy</th>\n",
       "      <th>box_IOU_ground</th>\n",
       "      <th>box_IOU_3d</th>\n",
       "      <th>box_accuracy</th>\n",
       "      <th>seg_loss</th>\n",
       "      <th>stage1_center_loss</th>\n",
       "      <th>center_loss</th>\n",
       "      <th>heading_class_loss</th>\n",
       "      <th>heading_residual_normalized_loss</th>\n",
       "      <th>size_class_loss</th>\n",
       "      <th>size_residuals_normalized_loss</th>\n",
       "      <th>corner_loss</th>\n",
       "      <th>total_loss</th>\n",
       "    </tr>\n",
       "  </thead>\n",
       "  <tbody>\n",
       "    <tr>\n",
       "      <th>682</th>\n",
       "      <td>2018-12-18 00:03:42,487 -</td>\n",
       "      <td>2</td>\n",
       "      <td>2250</td>\n",
       "      <td>9.859812</td>\n",
       "      <td>0.868149</td>\n",
       "      <td>0.624431</td>\n",
       "      <td>0.574328</td>\n",
       "      <td>0.400000</td>\n",
       "      <td>0.328634</td>\n",
       "      <td>0.542452</td>\n",
       "      <td>0.637459</td>\n",
       "      <td>0.968728</td>\n",
       "      <td>0.044568</td>\n",
       "      <td>0.001012</td>\n",
       "      <td>0.038146</td>\n",
       "      <td>0.440902</td>\n",
       "      <td>8.541579</td>\n",
       "    </tr>\n",
       "    <tr>\n",
       "      <th>683</th>\n",
       "      <td>2018-12-18 00:03:46,027 -</td>\n",
       "      <td>2</td>\n",
       "      <td>2260</td>\n",
       "      <td>9.919063</td>\n",
       "      <td>0.877594</td>\n",
       "      <td>0.632127</td>\n",
       "      <td>0.580285</td>\n",
       "      <td>0.365625</td>\n",
       "      <td>0.259985</td>\n",
       "      <td>0.304404</td>\n",
       "      <td>0.177861</td>\n",
       "      <td>0.886085</td>\n",
       "      <td>0.049477</td>\n",
       "      <td>0.001739</td>\n",
       "      <td>0.038216</td>\n",
       "      <td>0.205043</td>\n",
       "      <td>5.434377</td>\n",
       "    </tr>\n",
       "    <tr>\n",
       "      <th>684</th>\n",
       "      <td>2018-12-18 00:03:49,576 -</td>\n",
       "      <td>2</td>\n",
       "      <td>2270</td>\n",
       "      <td>8.480699</td>\n",
       "      <td>0.871716</td>\n",
       "      <td>0.636421</td>\n",
       "      <td>0.583079</td>\n",
       "      <td>0.368750</td>\n",
       "      <td>0.306791</td>\n",
       "      <td>0.823324</td>\n",
       "      <td>0.967508</td>\n",
       "      <td>0.744066</td>\n",
       "      <td>0.042016</td>\n",
       "      <td>0.001491</td>\n",
       "      <td>0.040967</td>\n",
       "      <td>0.603307</td>\n",
       "      <td>10.535904</td>\n",
       "    </tr>\n",
       "    <tr>\n",
       "      <th>685</th>\n",
       "      <td>2018-12-18 00:03:53,126 -</td>\n",
       "      <td>2</td>\n",
       "      <td>2280</td>\n",
       "      <td>9.071413</td>\n",
       "      <td>0.873398</td>\n",
       "      <td>0.642091</td>\n",
       "      <td>0.591352</td>\n",
       "      <td>0.396875</td>\n",
       "      <td>0.294886</td>\n",
       "      <td>0.717242</td>\n",
       "      <td>1.016070</td>\n",
       "      <td>0.999475</td>\n",
       "      <td>0.066391</td>\n",
       "      <td>0.003661</td>\n",
       "      <td>0.021037</td>\n",
       "      <td>0.661688</td>\n",
       "      <td>11.396776</td>\n",
       "    </tr>\n",
       "    <tr>\n",
       "      <th>686</th>\n",
       "      <td>2018-12-18 00:03:56,664 -</td>\n",
       "      <td>2</td>\n",
       "      <td>2290</td>\n",
       "      <td>8.661305</td>\n",
       "      <td>0.887817</td>\n",
       "      <td>0.639921</td>\n",
       "      <td>0.591344</td>\n",
       "      <td>0.418750</td>\n",
       "      <td>0.284508</td>\n",
       "      <td>0.450626</td>\n",
       "      <td>0.328298</td>\n",
       "      <td>0.884690</td>\n",
       "      <td>0.043836</td>\n",
       "      <td>0.001239</td>\n",
       "      <td>0.026188</td>\n",
       "      <td>0.217998</td>\n",
       "      <td>5.529815</td>\n",
       "    </tr>\n",
       "  </tbody>\n",
       "</table>\n",
       "</div>"
      ],
      "text/plain": [
       "                      timestamp    epoch    batches_processed    mean_loss   \\\n",
       "682  2018-12-18 00:03:42,487 -          2                 2250     9.859812   \n",
       "683  2018-12-18 00:03:46,027 -          2                 2260     9.919063   \n",
       "684  2018-12-18 00:03:49,576 -          2                 2270     8.480699   \n",
       "685  2018-12-18 00:03:53,126 -          2                 2280     9.071413   \n",
       "686  2018-12-18 00:03:56,664 -          2                 2290     8.661305   \n",
       "\n",
       "      segmentation_accuracy    box_IOU_ground    box_IOU_3d    box_accuracy   \\\n",
       "682                 0.868149          0.624431      0.574328        0.400000   \n",
       "683                 0.877594          0.632127      0.580285        0.365625   \n",
       "684                 0.871716          0.636421      0.583079        0.368750   \n",
       "685                 0.873398          0.642091      0.591352        0.396875   \n",
       "686                 0.887817          0.639921      0.591344        0.418750   \n",
       "\n",
       "      seg_loss    stage1_center_loss    center_loss    heading_class_loss   \\\n",
       "682    0.328634              0.542452       0.637459              0.968728   \n",
       "683    0.259985              0.304404       0.177861              0.886085   \n",
       "684    0.306791              0.823324       0.967508              0.744066   \n",
       "685    0.294886              0.717242       1.016070              0.999475   \n",
       "686    0.284508              0.450626       0.328298              0.884690   \n",
       "\n",
       "      heading_residual_normalized_loss    size_class_loss   \\\n",
       "682                            0.044568           0.001012   \n",
       "683                            0.049477           0.001739   \n",
       "684                            0.042016           0.001491   \n",
       "685                            0.066391           0.003661   \n",
       "686                            0.043836           0.001239   \n",
       "\n",
       "      size_residuals_normalized_loss    corner_loss    total_loss  \n",
       "682                          0.038146       0.440902     8.541579  \n",
       "683                          0.038216       0.205043     5.434377  \n",
       "684                          0.040967       0.603307    10.535904  \n",
       "685                          0.021037       0.661688    11.396776  \n",
       "686                          0.026188       0.217998     5.529815  "
      ]
     },
     "execution_count": 144,
     "metadata": {},
     "output_type": "execute_result"
    }
   ],
   "source": [
    "df2.tail()"
   ]
  },
  {
   "cell_type": "code",
   "execution_count": 5,
   "metadata": {},
   "outputs": [
    {
     "data": {
      "text/plain": [
       "array(['        timestamp ', ' epoch ', ' batches_processed ',\n",
       "       ' mean_loss ', ' segmentation_accuracy ', ' box_IOU_ground ',\n",
       "       ' box_IOU_3d ', ' box_accuracy ', ' seg_loss ',\n",
       "       ' stage1_center_loss ', ' center_loss ', ' heading_class_loss ',\n",
       "       ' heading_residual_normalized_loss ', ' size_class_loss ',\n",
       "       ' size_residuals_normalized_loss ', ' corner_loss ', ' total_loss'],\n",
       "      dtype=object)"
      ]
     },
     "execution_count": 5,
     "metadata": {},
     "output_type": "execute_result"
    }
   ],
   "source": [
    "df.columns.values"
   ]
  },
  {
   "cell_type": "code",
   "execution_count": 18,
   "metadata": {},
   "outputs": [
    {
     "data": {
      "text/plain": [
       "<matplotlib.axes._subplots.AxesSubplot at 0x7f155d0061d0>"
      ]
     },
     "execution_count": 18,
     "metadata": {},
     "output_type": "execute_result"
    },
    {
     "data": {
      "image/png": "[encoded data removed]",
      "text/plain": [
       "<Figure size 432x288 with 1 Axes>"
      ]
     },
     "metadata": {
      "needs_background": "light"
     },
     "output_type": "display_data"
    }
   ],
   "source": [
    "#df[' total_loss'].plot()\n",
    "df[' stage1_center_loss '].plot()"
   ]
  },
  {
   "cell_type": "code",
   "execution_count": 7,
   "metadata": {},
   "outputs": [
    {
     "data": {
      "text/plain": [
       "<matplotlib.axes._subplots.AxesSubplot at 0x7f155d1c6710>"
      ]
     },
     "execution_count": 7,
     "metadata": {},
     "output_type": "execute_result"
    },
    {
     "data": {
      "image/png": "[encoded data removed]",
      "text/plain": [
       "<Figure size 432x288 with 1 Axes>"
      ]
     },
     "metadata": {
      "needs_background": "light"
     },
     "output_type": "display_data"
    }
   ],
   "source": [
    "df[' segmentation_accuracy '].plot()"
   ]
  },
  {
   "cell_type": "code",
   "execution_count": 40,
   "metadata": {},
   "outputs": [],
   "source": [
    "ref_filename = 'logs/run_train-tag-total_loss_1.csv'"
   ]
  },
  {
   "cell_type": "code",
   "execution_count": 41,
   "metadata": {},
   "outputs": [],
   "source": [
    "ref_df = pd.read_csv(ref_filename)"
   ]
  },
  {
   "cell_type": "code",
   "execution_count": 42,
   "metadata": {
    "scrolled": true
   },
   "outputs": [
    {
     "data": {
      "text/plain": [
       "<matplotlib.axes._subplots.AxesSubplot at 0x7f14e78ee748>"
      ]
     },
     "execution_count": 42,
     "metadata": {},
     "output_type": "execute_result"
    },
    {
     "data": {
      "image/png": "[encoded data removed]",
      "text/plain": [
       "<Figure size 432x288 with 1 Axes>"
      ]
     },
     "metadata": {
      "needs_background": "light"
     },
     "output_type": "display_data"
    }
   ],
   "source": [
    "ref_df.Value.plot()\n",
    "#ref_df"
   ]
  },
  {
   "cell_type": "code",
   "execution_count": 43,
   "metadata": {},
   "outputs": [
    {
     "data": {
      "text/html": [
       "<div>\n",
       "<style scoped>\n",
       "    .dataframe tbody tr th:only-of-type {\n",
       "        vertical-align: middle;\n",
       "    }\n",
       "\n",
       "    .dataframe tbody tr th {\n",
       "        vertical-align: top;\n",
       "    }\n",
       "\n",
       "    .dataframe thead th {\n",
       "        text-align: right;\n",
       "    }\n",
       "</style>\n",
       "<table border=\"1\" class=\"dataframe\">\n",
       "  <thead>\n",
       "    <tr style=\"text-align: right;\">\n",
       "      <th></th>\n",
       "      <th>Wall time</th>\n",
       "      <th>Step</th>\n",
       "      <th>Value</th>\n",
       "    </tr>\n",
       "  </thead>\n",
       "  <tbody>\n",
       "    <tr>\n",
       "      <th>0</th>\n",
       "      <td>1.543534e+09</td>\n",
       "      <td>42</td>\n",
       "      <td>32.340008</td>\n",
       "    </tr>\n",
       "    <tr>\n",
       "      <th>1</th>\n",
       "      <td>1.543534e+09</td>\n",
       "      <td>167</td>\n",
       "      <td>20.574242</td>\n",
       "    </tr>\n",
       "    <tr>\n",
       "      <th>2</th>\n",
       "      <td>1.543534e+09</td>\n",
       "      <td>229</td>\n",
       "      <td>19.340101</td>\n",
       "    </tr>\n",
       "    <tr>\n",
       "      <th>3</th>\n",
       "      <td>1.543534e+09</td>\n",
       "      <td>234</td>\n",
       "      <td>9.970661</td>\n",
       "    </tr>\n",
       "    <tr>\n",
       "      <th>4</th>\n",
       "      <td>1.543534e+09</td>\n",
       "      <td>474</td>\n",
       "      <td>44.660362</td>\n",
       "    </tr>\n",
       "    <tr>\n",
       "      <th>5</th>\n",
       "      <td>1.543534e+09</td>\n",
       "      <td>536</td>\n",
       "      <td>14.441819</td>\n",
       "    </tr>\n",
       "    <tr>\n",
       "      <th>6</th>\n",
       "      <td>1.543534e+09</td>\n",
       "      <td>579</td>\n",
       "      <td>12.768376</td>\n",
       "    </tr>\n",
       "    <tr>\n",
       "      <th>7</th>\n",
       "      <td>1.543534e+09</td>\n",
       "      <td>586</td>\n",
       "      <td>15.335401</td>\n",
       "    </tr>\n",
       "    <tr>\n",
       "      <th>8</th>\n",
       "      <td>1.543534e+09</td>\n",
       "      <td>634</td>\n",
       "      <td>34.565769</td>\n",
       "    </tr>\n",
       "    <tr>\n",
       "      <th>9</th>\n",
       "      <td>1.543534e+09</td>\n",
       "      <td>647</td>\n",
       "      <td>12.844904</td>\n",
       "    </tr>\n",
       "    <tr>\n",
       "      <th>10</th>\n",
       "      <td>1.543534e+09</td>\n",
       "      <td>714</td>\n",
       "      <td>15.352350</td>\n",
       "    </tr>\n",
       "    <tr>\n",
       "      <th>11</th>\n",
       "      <td>1.543534e+09</td>\n",
       "      <td>808</td>\n",
       "      <td>10.661152</td>\n",
       "    </tr>\n",
       "    <tr>\n",
       "      <th>12</th>\n",
       "      <td>1.543534e+09</td>\n",
       "      <td>1014</td>\n",
       "      <td>14.051657</td>\n",
       "    </tr>\n",
       "    <tr>\n",
       "      <th>13</th>\n",
       "      <td>1.543535e+09</td>\n",
       "      <td>1333</td>\n",
       "      <td>20.355822</td>\n",
       "    </tr>\n",
       "    <tr>\n",
       "      <th>14</th>\n",
       "      <td>1.543535e+09</td>\n",
       "      <td>1385</td>\n",
       "      <td>9.043117</td>\n",
       "    </tr>\n",
       "    <tr>\n",
       "      <th>15</th>\n",
       "      <td>1.543535e+09</td>\n",
       "      <td>1392</td>\n",
       "      <td>12.918195</td>\n",
       "    </tr>\n",
       "    <tr>\n",
       "      <th>16</th>\n",
       "      <td>1.543535e+09</td>\n",
       "      <td>1436</td>\n",
       "      <td>10.015405</td>\n",
       "    </tr>\n",
       "    <tr>\n",
       "      <th>17</th>\n",
       "      <td>1.543535e+09</td>\n",
       "      <td>1691</td>\n",
       "      <td>8.697832</td>\n",
       "    </tr>\n",
       "    <tr>\n",
       "      <th>18</th>\n",
       "      <td>1.543535e+09</td>\n",
       "      <td>1734</td>\n",
       "      <td>7.572566</td>\n",
       "    </tr>\n",
       "    <tr>\n",
       "      <th>19</th>\n",
       "      <td>1.543535e+09</td>\n",
       "      <td>1737</td>\n",
       "      <td>6.881451</td>\n",
       "    </tr>\n",
       "    <tr>\n",
       "      <th>20</th>\n",
       "      <td>1.543535e+09</td>\n",
       "      <td>1877</td>\n",
       "      <td>10.214952</td>\n",
       "    </tr>\n",
       "    <tr>\n",
       "      <th>21</th>\n",
       "      <td>1.543535e+09</td>\n",
       "      <td>1917</td>\n",
       "      <td>7.165121</td>\n",
       "    </tr>\n",
       "    <tr>\n",
       "      <th>22</th>\n",
       "      <td>1.543535e+09</td>\n",
       "      <td>2036</td>\n",
       "      <td>8.154483</td>\n",
       "    </tr>\n",
       "    <tr>\n",
       "      <th>23</th>\n",
       "      <td>1.543535e+09</td>\n",
       "      <td>2307</td>\n",
       "      <td>9.893663</td>\n",
       "    </tr>\n",
       "    <tr>\n",
       "      <th>24</th>\n",
       "      <td>1.543535e+09</td>\n",
       "      <td>2389</td>\n",
       "      <td>10.408863</td>\n",
       "    </tr>\n",
       "    <tr>\n",
       "      <th>25</th>\n",
       "      <td>1.543535e+09</td>\n",
       "      <td>2485</td>\n",
       "      <td>11.464085</td>\n",
       "    </tr>\n",
       "    <tr>\n",
       "      <th>26</th>\n",
       "      <td>1.543535e+09</td>\n",
       "      <td>2486</td>\n",
       "      <td>10.606340</td>\n",
       "    </tr>\n",
       "    <tr>\n",
       "      <th>27</th>\n",
       "      <td>1.543535e+09</td>\n",
       "      <td>2685</td>\n",
       "      <td>8.762699</td>\n",
       "    </tr>\n",
       "    <tr>\n",
       "      <th>28</th>\n",
       "      <td>1.543535e+09</td>\n",
       "      <td>3038</td>\n",
       "      <td>9.383759</td>\n",
       "    </tr>\n",
       "    <tr>\n",
       "      <th>29</th>\n",
       "      <td>1.543535e+09</td>\n",
       "      <td>3230</td>\n",
       "      <td>6.602110</td>\n",
       "    </tr>\n",
       "    <tr>\n",
       "      <th>...</th>\n",
       "      <td>...</td>\n",
       "      <td>...</td>\n",
       "      <td>...</td>\n",
       "    </tr>\n",
       "    <tr>\n",
       "      <th>970</th>\n",
       "      <td>1.543575e+09</td>\n",
       "      <td>136693</td>\n",
       "      <td>3.540414</td>\n",
       "    </tr>\n",
       "    <tr>\n",
       "      <th>971</th>\n",
       "      <td>1.543575e+09</td>\n",
       "      <td>137023</td>\n",
       "      <td>2.935698</td>\n",
       "    </tr>\n",
       "    <tr>\n",
       "      <th>972</th>\n",
       "      <td>1.543575e+09</td>\n",
       "      <td>137055</td>\n",
       "      <td>0.873471</td>\n",
       "    </tr>\n",
       "    <tr>\n",
       "      <th>973</th>\n",
       "      <td>1.543575e+09</td>\n",
       "      <td>137252</td>\n",
       "      <td>2.120957</td>\n",
       "    </tr>\n",
       "    <tr>\n",
       "      <th>974</th>\n",
       "      <td>1.543575e+09</td>\n",
       "      <td>137482</td>\n",
       "      <td>2.146342</td>\n",
       "    </tr>\n",
       "    <tr>\n",
       "      <th>975</th>\n",
       "      <td>1.543575e+09</td>\n",
       "      <td>137565</td>\n",
       "      <td>2.356566</td>\n",
       "    </tr>\n",
       "    <tr>\n",
       "      <th>976</th>\n",
       "      <td>1.543575e+09</td>\n",
       "      <td>137584</td>\n",
       "      <td>2.548012</td>\n",
       "    </tr>\n",
       "    <tr>\n",
       "      <th>977</th>\n",
       "      <td>1.543575e+09</td>\n",
       "      <td>137687</td>\n",
       "      <td>2.103645</td>\n",
       "    </tr>\n",
       "    <tr>\n",
       "      <th>978</th>\n",
       "      <td>1.543575e+09</td>\n",
       "      <td>137744</td>\n",
       "      <td>1.728259</td>\n",
       "    </tr>\n",
       "    <tr>\n",
       "      <th>979</th>\n",
       "      <td>1.543575e+09</td>\n",
       "      <td>137966</td>\n",
       "      <td>1.543763</td>\n",
       "    </tr>\n",
       "    <tr>\n",
       "      <th>980</th>\n",
       "      <td>1.543575e+09</td>\n",
       "      <td>138156</td>\n",
       "      <td>1.679176</td>\n",
       "    </tr>\n",
       "    <tr>\n",
       "      <th>981</th>\n",
       "      <td>1.543575e+09</td>\n",
       "      <td>138444</td>\n",
       "      <td>2.435971</td>\n",
       "    </tr>\n",
       "    <tr>\n",
       "      <th>982</th>\n",
       "      <td>1.543575e+09</td>\n",
       "      <td>138472</td>\n",
       "      <td>7.916966</td>\n",
       "    </tr>\n",
       "    <tr>\n",
       "      <th>983</th>\n",
       "      <td>1.543575e+09</td>\n",
       "      <td>138558</td>\n",
       "      <td>2.376792</td>\n",
       "    </tr>\n",
       "    <tr>\n",
       "      <th>984</th>\n",
       "      <td>1.543575e+09</td>\n",
       "      <td>138939</td>\n",
       "      <td>1.153105</td>\n",
       "    </tr>\n",
       "    <tr>\n",
       "      <th>985</th>\n",
       "      <td>1.543575e+09</td>\n",
       "      <td>138961</td>\n",
       "      <td>1.907598</td>\n",
       "    </tr>\n",
       "    <tr>\n",
       "      <th>986</th>\n",
       "      <td>1.543575e+09</td>\n",
       "      <td>139258</td>\n",
       "      <td>2.454923</td>\n",
       "    </tr>\n",
       "    <tr>\n",
       "      <th>987</th>\n",
       "      <td>1.543575e+09</td>\n",
       "      <td>139403</td>\n",
       "      <td>1.917244</td>\n",
       "    </tr>\n",
       "    <tr>\n",
       "      <th>988</th>\n",
       "      <td>1.543575e+09</td>\n",
       "      <td>139449</td>\n",
       "      <td>1.875526</td>\n",
       "    </tr>\n",
       "    <tr>\n",
       "      <th>989</th>\n",
       "      <td>1.543576e+09</td>\n",
       "      <td>139975</td>\n",
       "      <td>1.899680</td>\n",
       "    </tr>\n",
       "    <tr>\n",
       "      <th>990</th>\n",
       "      <td>1.543576e+09</td>\n",
       "      <td>140015</td>\n",
       "      <td>1.875816</td>\n",
       "    </tr>\n",
       "    <tr>\n",
       "      <th>991</th>\n",
       "      <td>1.543576e+09</td>\n",
       "      <td>140023</td>\n",
       "      <td>2.104170</td>\n",
       "    </tr>\n",
       "    <tr>\n",
       "      <th>992</th>\n",
       "      <td>1.543576e+09</td>\n",
       "      <td>140045</td>\n",
       "      <td>2.276521</td>\n",
       "    </tr>\n",
       "    <tr>\n",
       "      <th>993</th>\n",
       "      <td>1.543576e+09</td>\n",
       "      <td>140055</td>\n",
       "      <td>2.064319</td>\n",
       "    </tr>\n",
       "    <tr>\n",
       "      <th>994</th>\n",
       "      <td>1.543576e+09</td>\n",
       "      <td>140131</td>\n",
       "      <td>1.440878</td>\n",
       "    </tr>\n",
       "    <tr>\n",
       "      <th>995</th>\n",
       "      <td>1.543576e+09</td>\n",
       "      <td>140165</td>\n",
       "      <td>1.256261</td>\n",
       "    </tr>\n",
       "    <tr>\n",
       "      <th>996</th>\n",
       "      <td>1.543576e+09</td>\n",
       "      <td>140252</td>\n",
       "      <td>4.962305</td>\n",
       "    </tr>\n",
       "    <tr>\n",
       "      <th>997</th>\n",
       "      <td>1.543576e+09</td>\n",
       "      <td>140283</td>\n",
       "      <td>1.840437</td>\n",
       "    </tr>\n",
       "    <tr>\n",
       "      <th>998</th>\n",
       "      <td>1.543576e+09</td>\n",
       "      <td>140750</td>\n",
       "      <td>1.446647</td>\n",
       "    </tr>\n",
       "    <tr>\n",
       "      <th>999</th>\n",
       "      <td>1.543576e+09</td>\n",
       "      <td>140878</td>\n",
       "      <td>1.650272</td>\n",
       "    </tr>\n",
       "  </tbody>\n",
       "</table>\n",
       "<p>1000 rows × 3 columns</p>\n",
       "</div>"
      ],
      "text/plain": [
       "        Wall time    Step      Value\n",
       "0    1.543534e+09      42  32.340008\n",
       "1    1.543534e+09     167  20.574242\n",
       "2    1.543534e+09     229  19.340101\n",
       "3    1.543534e+09     234   9.970661\n",
       "4    1.543534e+09     474  44.660362\n",
       "5    1.543534e+09     536  14.441819\n",
       "6    1.543534e+09     579  12.768376\n",
       "7    1.543534e+09     586  15.335401\n",
       "8    1.543534e+09     634  34.565769\n",
       "9    1.543534e+09     647  12.844904\n",
       "10   1.543534e+09     714  15.352350\n",
       "11   1.543534e+09     808  10.661152\n",
       "12   1.543534e+09    1014  14.051657\n",
       "13   1.543535e+09    1333  20.355822\n",
       "14   1.543535e+09    1385   9.043117\n",
       "15   1.543535e+09    1392  12.918195\n",
       "16   1.543535e+09    1436  10.015405\n",
       "17   1.543535e+09    1691   8.697832\n",
       "18   1.543535e+09    1734   7.572566\n",
       "19   1.543535e+09    1737   6.881451\n",
       "20   1.543535e+09    1877  10.214952\n",
       "21   1.543535e+09    1917   7.165121\n",
       "22   1.543535e+09    2036   8.154483\n",
       "23   1.543535e+09    2307   9.893663\n",
       "24   1.543535e+09    2389  10.408863\n",
       "25   1.543535e+09    2485  11.464085\n",
       "26   1.543535e+09    2486  10.606340\n",
       "27   1.543535e+09    2685   8.762699\n",
       "28   1.543535e+09    3038   9.383759\n",
       "29   1.543535e+09    3230   6.602110\n",
       "..            ...     ...        ...\n",
       "970  1.543575e+09  136693   3.540414\n",
       "971  1.543575e+09  137023   2.935698\n",
       "972  1.543575e+09  137055   0.873471\n",
       "973  1.543575e+09  137252   2.120957\n",
       "974  1.543575e+09  137482   2.146342\n",
       "975  1.543575e+09  137565   2.356566\n",
       "976  1.543575e+09  137584   2.548012\n",
       "977  1.543575e+09  137687   2.103645\n",
       "978  1.543575e+09  137744   1.728259\n",
       "979  1.543575e+09  137966   1.543763\n",
       "980  1.543575e+09  138156   1.679176\n",
       "981  1.543575e+09  138444   2.435971\n",
       "982  1.543575e+09  138472   7.916966\n",
       "983  1.543575e+09  138558   2.376792\n",
       "984  1.543575e+09  138939   1.153105\n",
       "985  1.543575e+09  138961   1.907598\n",
       "986  1.543575e+09  139258   2.454923\n",
       "987  1.543575e+09  139403   1.917244\n",
       "988  1.543575e+09  139449   1.875526\n",
       "989  1.543576e+09  139975   1.899680\n",
       "990  1.543576e+09  140015   1.875816\n",
       "991  1.543576e+09  140023   2.104170\n",
       "992  1.543576e+09  140045   2.276521\n",
       "993  1.543576e+09  140055   2.064319\n",
       "994  1.543576e+09  140131   1.440878\n",
       "995  1.543576e+09  140165   1.256261\n",
       "996  1.543576e+09  140252   4.962305\n",
       "997  1.543576e+09  140283   1.840437\n",
       "998  1.543576e+09  140750   1.446647\n",
       "999  1.543576e+09  140878   1.650272\n",
       "\n",
       "[1000 rows x 3 columns]"
      ]
     },
     "execution_count": 43,
     "metadata": {},
     "output_type": "execute_result"
    }
   ],
   "source": [
    "ref_df"
   ]
  },
  {
   "cell_type": "code",
   "execution_count": null,
   "metadata": {},
   "outputs": [],
   "source": []
  }
 ],
 "metadata": {
  "kernelspec": {
   "display_name": "Python 3",
   "language": "python",
   "name": "python3"
  },
  "language_info": {
   "codemirror_mode": {
    "name": "ipython",
    "version": 3
   },
   "file_extension": ".py",
   "mimetype": "text/x-python",
   "name": "python",
   "nbconvert_exporter": "python",
   "pygments_lexer": "ipython3",
   "version": "3.6.7"
  }
 },
 "nbformat": 4,
 "nbformat_minor": 2
}
