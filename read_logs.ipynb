{
 "cells": [
  {
   "cell_type": "code",
   "execution_count": 59,
   "metadata": {},
   "outputs": [],
   "source": [
    "import numpy as np\n",
    "import pandas as pd\n",
    "import matplotlib.pyplot as plt\n",
    "%matplotlib inline"
   ]
  },
  {
   "cell_type": "code",
   "execution_count": 93,
   "metadata": {},
   "outputs": [],
   "source": [
    "#filename = './logs/2018-12-17_18-58-39-.log'\n",
    "#new_file = './logs/2018-12-17_23-23-09-.log'\n",
    "filename = './logs/2019-01-06_03-15-57-.log'"
   ]
  },
  {
   "cell_type": "code",
   "execution_count": 94,
   "metadata": {},
   "outputs": [],
   "source": [
    "df = pd.read_csv(filename, sep='|', header=1, skiprows=1)\n",
    "df.columns = [str.strip(x) for x in df.columns]"
   ]
  },
  {
   "cell_type": "code",
   "execution_count": 95,
   "metadata": {
    "scrolled": true
   },
   "outputs": [
    {
     "data": {
      "text/html": [
       "<div>\n",
       "<style scoped>\n",
       "    .dataframe tbody tr th:only-of-type {\n",
       "        vertical-align: middle;\n",
       "    }\n",
       "\n",
       "    .dataframe tbody tr th {\n",
       "        vertical-align: top;\n",
       "    }\n",
       "\n",
       "    .dataframe thead th {\n",
       "        text-align: right;\n",
       "    }\n",
       "</style>\n",
       "<table border=\"1\" class=\"dataframe\">\n",
       "  <thead>\n",
       "    <tr style=\"text-align: right;\">\n",
       "      <th></th>\n",
       "      <th>timestamp</th>\n",
       "      <th>epoch</th>\n",
       "      <th>batches_processed</th>\n",
       "      <th>mean_loss</th>\n",
       "      <th>segmentation_accuracy</th>\n",
       "      <th>box_IOU_ground</th>\n",
       "      <th>box_IOU_3d</th>\n",
       "      <th>box_accuracy</th>\n",
       "      <th>seg_loss</th>\n",
       "      <th>stage1_center_loss</th>\n",
       "      <th>center_loss</th>\n",
       "      <th>heading_class_loss</th>\n",
       "      <th>heading_residual_normalized_loss</th>\n",
       "      <th>size_class_loss</th>\n",
       "      <th>size_residuals_normalized_loss</th>\n",
       "      <th>corner_loss</th>\n",
       "      <th>total_loss</th>\n",
       "      <th>flag</th>\n",
       "    </tr>\n",
       "  </thead>\n",
       "  <tbody>\n",
       "    <tr>\n",
       "      <th>0</th>\n",
       "      <td>2019-01-06 03:16:04,722 -</td>\n",
       "      <td>0</td>\n",
       "      <td>10</td>\n",
       "      <td>44.068569</td>\n",
       "      <td>0.577113</td>\n",
       "      <td>0.188697</td>\n",
       "      <td>0.145610</td>\n",
       "      <td>0.003125</td>\n",
       "      <td>0.658659</td>\n",
       "      <td>3.108790</td>\n",
       "      <td>5.212770</td>\n",
       "      <td>2.287094</td>\n",
       "      <td>0.116362</td>\n",
       "      <td>1.569314</td>\n",
       "      <td>0.055720</td>\n",
       "      <td>2.743950</td>\n",
       "      <td>43.717762</td>\n",
       "      <td>Train</td>\n",
       "    </tr>\n",
       "    <tr>\n",
       "      <th>1</th>\n",
       "      <td>2019-01-06 03:16:12,116 -</td>\n",
       "      <td>0</td>\n",
       "      <td>20</td>\n",
       "      <td>35.791271</td>\n",
       "      <td>0.636287</td>\n",
       "      <td>0.307502</td>\n",
       "      <td>0.273327</td>\n",
       "      <td>0.026562</td>\n",
       "      <td>0.601984</td>\n",
       "      <td>2.347986</td>\n",
       "      <td>3.959546</td>\n",
       "      <td>2.231631</td>\n",
       "      <td>0.141442</td>\n",
       "      <td>1.080798</td>\n",
       "      <td>0.049221</td>\n",
       "      <td>2.176471</td>\n",
       "      <td>35.799919</td>\n",
       "      <td>Train</td>\n",
       "    </tr>\n",
       "    <tr>\n",
       "      <th>2</th>\n",
       "      <td>2019-01-06 03:16:19,776 -</td>\n",
       "      <td>0</td>\n",
       "      <td>30</td>\n",
       "      <td>38.117508</td>\n",
       "      <td>0.676494</td>\n",
       "      <td>0.321391</td>\n",
       "      <td>0.285657</td>\n",
       "      <td>0.018750</td>\n",
       "      <td>0.584024</td>\n",
       "      <td>1.879959</td>\n",
       "      <td>2.967512</td>\n",
       "      <td>2.331287</td>\n",
       "      <td>0.182723</td>\n",
       "      <td>0.977246</td>\n",
       "      <td>0.037838</td>\n",
       "      <td>1.633195</td>\n",
       "      <td>29.483210</td>\n",
       "      <td>Train</td>\n",
       "    </tr>\n",
       "    <tr>\n",
       "      <th>3</th>\n",
       "      <td>2019-01-06 03:16:27,264 -</td>\n",
       "      <td>0</td>\n",
       "      <td>40</td>\n",
       "      <td>45.861176</td>\n",
       "      <td>0.703134</td>\n",
       "      <td>0.330155</td>\n",
       "      <td>0.294423</td>\n",
       "      <td>0.040625</td>\n",
       "      <td>0.565129</td>\n",
       "      <td>3.342491</td>\n",
       "      <td>5.031579</td>\n",
       "      <td>2.293203</td>\n",
       "      <td>0.135476</td>\n",
       "      <td>0.729708</td>\n",
       "      <td>0.038891</td>\n",
       "      <td>2.605617</td>\n",
       "      <td>41.505611</td>\n",
       "      <td>Train</td>\n",
       "    </tr>\n",
       "    <tr>\n",
       "      <th>4</th>\n",
       "      <td>2019-01-06 03:16:34,668 -</td>\n",
       "      <td>0</td>\n",
       "      <td>50</td>\n",
       "      <td>49.971645</td>\n",
       "      <td>0.686516</td>\n",
       "      <td>0.290309</td>\n",
       "      <td>0.261901</td>\n",
       "      <td>0.028125</td>\n",
       "      <td>0.569401</td>\n",
       "      <td>4.576107</td>\n",
       "      <td>6.831138</td>\n",
       "      <td>2.229896</td>\n",
       "      <td>0.124827</td>\n",
       "      <td>0.599841</td>\n",
       "      <td>0.043166</td>\n",
       "      <td>3.444605</td>\n",
       "      <td>52.612286</td>\n",
       "      <td>Train</td>\n",
       "    </tr>\n",
       "  </tbody>\n",
       "</table>\n",
       "</div>"
      ],
      "text/plain": [
       "                     timestamp  epoch  batches_processed  mean_loss  \\\n",
       "0  2019-01-06 03:16:04,722 -        0                 10  44.068569   \n",
       "1  2019-01-06 03:16:12,116 -        0                 20  35.791271   \n",
       "2  2019-01-06 03:16:19,776 -        0                 30  38.117508   \n",
       "3  2019-01-06 03:16:27,264 -        0                 40  45.861176   \n",
       "4  2019-01-06 03:16:34,668 -        0                 50  49.971645   \n",
       "\n",
       "   segmentation_accuracy  box_IOU_ground  box_IOU_3d  box_accuracy  seg_loss  \\\n",
       "0               0.577113        0.188697    0.145610      0.003125  0.658659   \n",
       "1               0.636287        0.307502    0.273327      0.026562  0.601984   \n",
       "2               0.676494        0.321391    0.285657      0.018750  0.584024   \n",
       "3               0.703134        0.330155    0.294423      0.040625  0.565129   \n",
       "4               0.686516        0.290309    0.261901      0.028125  0.569401   \n",
       "\n",
       "   stage1_center_loss  center_loss  heading_class_loss  \\\n",
       "0            3.108790     5.212770            2.287094   \n",
       "1            2.347986     3.959546            2.231631   \n",
       "2            1.879959     2.967512            2.331287   \n",
       "3            3.342491     5.031579            2.293203   \n",
       "4            4.576107     6.831138            2.229896   \n",
       "\n",
       "   heading_residual_normalized_loss  size_class_loss  \\\n",
       "0                          0.116362         1.569314   \n",
       "1                          0.141442         1.080798   \n",
       "2                          0.182723         0.977246   \n",
       "3                          0.135476         0.729708   \n",
       "4                          0.124827         0.599841   \n",
       "\n",
       "   size_residuals_normalized_loss  corner_loss  total_loss    flag  \n",
       "0                        0.055720     2.743950   43.717762   Train  \n",
       "1                        0.049221     2.176471   35.799919   Train  \n",
       "2                        0.037838     1.633195   29.483210   Train  \n",
       "3                        0.038891     2.605617   41.505611   Train  \n",
       "4                        0.043166     3.444605   52.612286   Train  "
      ]
     },
     "execution_count": 95,
     "metadata": {},
     "output_type": "execute_result"
    }
   ],
   "source": [
    "df.head()"
   ]
  },
  {
   "cell_type": "code",
   "execution_count": 102,
   "metadata": {},
   "outputs": [
    {
     "data": {
      "text/plain": [
       "<matplotlib.axes._subplots.AxesSubplot at 0x7f081107cc18>"
      ]
     },
     "execution_count": 102,
     "metadata": {},
     "output_type": "execute_result"
    },
    {
     "data": {
      "image/png": "[encoded data removed]",
      "text/plain": [
       "<Figure size 432x288 with 1 Axes>"
      ]
     },
     "metadata": {
      "needs_background": "light"
     },
     "output_type": "display_data"
    }
   ],
   "source": [
    "df[df['flag'] == ' Train']['corner_loss'].plot()"
   ]
  },
  {
   "cell_type": "code",
   "execution_count": 119,
   "metadata": {},
   "outputs": [
    {
     "data": {
      "text/plain": [
       "Index(['        timestamp ', ' epoch ', ' batches_processed ', ' mean_loss ',\n",
       "       ' segmentation_accuracy ', ' box_IOU_ground ', ' box_IOU_3d ',\n",
       "       ' box_accuracy ', ' seg_loss ', ' stage1_center_loss ', ' center_loss ',\n",
       "       ' heading_class_loss ', ' heading_residual_normalized_loss ',\n",
       "       ' size_class_loss ', ' size_residuals_normalized_loss ',\n",
       "       ' corner_loss ', ' total_loss'],\n",
       "      dtype='object')"
      ]
     },
     "execution_count": 119,
     "metadata": {},
     "output_type": "execute_result"
    }
   ],
   "source": [
    "df2.columns"
   ]
  },
  {
   "cell_type": "code",
   "execution_count": 142,
   "metadata": {},
   "outputs": [
    {
     "data": {
      "text/plain": [
       "(687, 17)"
      ]
     },
     "execution_count": 142,
     "metadata": {},
     "output_type": "execute_result"
    },
    {
     "data": {
      "image/png": "[encoded data removed]",
      "text/plain": [
       "<Figure size 432x288 with 1 Axes>"
      ]
     },
     "metadata": {
      "needs_background": "light"
     },
     "output_type": "display_data"
    }
   ],
   "source": [
    "df2 = pd.read_csv(new_file, sep='|', header=1, skiprows=1)\n",
    "#df2[' total_loss'].plot()\n",
    "df2[' mean_loss '].plot()\n",
    "df2.shape"
   ]
  },
  {
   "cell_type": "code",
   "execution_count": 144,
   "metadata": {},
   "outputs": [
    {
     "data": {
      "text/html": [
       "<div>\n",
       "<style scoped>\n",
       "    .dataframe tbody tr th:only-of-type {\n",
       "        vertical-align: middle;\n",
       "    }\n",
       "\n",
       "    .dataframe tbody tr th {\n",
       "        vertical-align: top;\n",
       "    }\n",
       "\n",
       "    .dataframe thead th {\n",
       "        text-align: right;\n",
       "    }\n",
       "</style>\n",
       "<table border=\"1\" class=\"dataframe\">\n",
       "  <thead>\n",
       "    <tr style=\"text-align: right;\">\n",
       "      <th></th>\n",
       "      <th>timestamp</th>\n",
       "      <th>epoch</th>\n",
       "      <th>batches_processed</th>\n",
       "      <th>mean_loss</th>\n",
       "      <th>segmentation_accuracy</th>\n",
       "      <th>box_IOU_ground</th>\n",
       "      <th>box_IOU_3d</th>\n",
       "      <th>box_accuracy</th>\n",
       "      <th>seg_loss</th>\n",
       "      <th>stage1_center_loss</th>\n",
       "      <th>center_loss</th>\n",
       "      <th>heading_class_loss</th>\n",
       "      <th>heading_residual_normalized_loss</th>\n",
       "      <th>size_class_loss</th>\n",
       "      <th>size_residuals_normalized_loss</th>\n",
       "      <th>corner_loss</th>\n",
       "      <th>total_loss</th>\n",
       "    </tr>\n",
       "  </thead>\n",
       "  <tbody>\n",
       "    <tr>\n",
       "      <th>682</th>\n",
       "      <td>2018-12-18 00:03:42,487 -</td>\n",
       "      <td>2</td>\n",
       "      <td>2250</td>\n",
       "      <td>9.859812</td>\n",
       "      <td>0.868149</td>\n",
       "      <td>0.624431</td>\n",
       "      <td>0.574328</td>\n",
       "      <td>0.400000</td>\n",
       "      <td>0.328634</td>\n",
       "      <td>0.542452</td>\n",
       "      <td>0.637459</td>\n",
       "      <td>0.968728</td>\n",
       "      <td>0.044568</td>\n",
       "      <td>0.001012</td>\n",
       "      <td>0.038146</td>\n",
       "      <td>0.440902</td>\n",
       "      <td>8.541579</td>\n",
       "    </tr>\n",
       "    <tr>\n",
       "      <th>683</th>\n",
       "      <td>2018-12-18 00:03:46,027 -</td>\n",
       "      <td>2</td>\n",
       "      <td>2260</td>\n",
       "      <td>9.919063</td>\n",
       "      <td>0.877594</td>\n",
       "      <td>0.632127</td>\n",
       "      <td>0.580285</td>\n",
       "      <td>0.365625</td>\n",
       "      <td>0.259985</td>\n",
       "      <td>0.304404</td>\n",
       "      <td>0.177861</td>\n",
       "      <td>0.886085</td>\n",
       "      <td>0.049477</td>\n",
       "      <td>0.001739</td>\n",
       "      <td>0.038216</td>\n",
       "      <td>0.205043</td>\n",
       "      <td>5.434377</td>\n",
       "    </tr>\n",
       "    <tr>\n",
       "      <th>684</th>\n",
       "      <td>2018-12-18 00:03:49,576 -</td>\n",
       "      <td>2</td>\n",
       "      <td>2270</td>\n",
       "      <td>8.480699</td>\n",
       "      <td>0.871716</td>\n",
       "      <td>0.636421</td>\n",
       "      <td>0.583079</td>\n",
       "      <td>0.368750</td>\n",
       "      <td>0.306791</td>\n",
       "      <td>0.823324</td>\n",
       "      <td>0.967508</td>\n",
       "      <td>0.744066</td>\n",
       "      <td>0.042016</td>\n",
       "      <td>0.001491</td>\n",
       "      <td>0.040967</td>\n",
       "      <td>0.603307</td>\n",
       "      <td>10.535904</td>\n",
       "    </tr>\n",
       "    <tr>\n",
       "      <th>685</th>\n",
       "      <td>2018-12-18 00:03:53,126 -</td>\n",
       "      <td>2</td>\n",
       "      <td>2280</td>\n",
       "      <td>9.071413</td>\n",
       "      <td>0.873398</td>\n",
       "      <td>0.642091</td>\n",
       "      <td>0.591352</td>\n",
       "      <td>0.396875</td>\n",
       "      <td>0.294886</td>\n",
       "      <td>0.717242</td>\n",
       "      <td>1.016070</td>\n",
       "      <td>0.999475</td>\n",
       "      <td>0.066391</td>\n",
       "      <td>0.003661</td>\n",
       "      <td>0.021037</td>\n",
       "      <td>0.661688</td>\n",
       "      <td>11.396776</td>\n",
       "    </tr>\n",
       "    <tr>\n",
       "      <th>686</th>\n",
       "      <td>2018-12-18 00:03:56,664 -</td>\n",
       "      <td>2</td>\n",
       "      <td>2290</td>\n",
       "      <td>8.661305</td>\n",
       "      <td>0.887817</td>\n",
       "      <td>0.639921</td>\n",
       "      <td>0.591344</td>\n",
       "      <td>0.418750</td>\n",
       "      <td>0.284508</td>\n",
       "      <td>0.450626</td>\n",
       "      <td>0.328298</td>\n",
       "      <td>0.884690</td>\n",
       "      <td>0.043836</td>\n",
       "      <td>0.001239</td>\n",
       "      <td>0.026188</td>\n",
       "      <td>0.217998</td>\n",
       "      <td>5.529815</td>\n",
       "    </tr>\n",
       "  </tbody>\n",
       "</table>\n",
       "</div>"
      ],
      "text/plain": [
       "                      timestamp    epoch    batches_processed    mean_loss   \\\n",
       "682  2018-12-18 00:03:42,487 -          2                 2250     9.859812   \n",
       "683  2018-12-18 00:03:46,027 -          2                 2260     9.919063   \n",
       "684  2018-12-18 00:03:49,576 -          2                 2270     8.480699   \n",
       "685  2018-12-18 00:03:53,126 -          2                 2280     9.071413   \n",
       "686  2018-12-18 00:03:56,664 -          2                 2290     8.661305   \n",
       "\n",
       "      segmentation_accuracy    box_IOU_ground    box_IOU_3d    box_accuracy   \\\n",
       "682                 0.868149          0.624431      0.574328        0.400000   \n",
       "683                 0.877594          0.632127      0.580285        0.365625   \n",
       "684                 0.871716          0.636421      0.583079        0.368750   \n",
       "685                 0.873398          0.642091      0.591352        0.396875   \n",
       "686                 0.887817          0.639921      0.591344        0.418750   \n",
       "\n",
       "      seg_loss    stage1_center_loss    center_loss    heading_class_loss   \\\n",
       "682    0.328634              0.542452       0.637459              0.968728   \n",
       "683    0.259985              0.304404       0.177861              0.886085   \n",
       "684    0.306791              0.823324       0.967508              0.744066   \n",
       "685    0.294886              0.717242       1.016070              0.999475   \n",
       "686    0.284508              0.450626       0.328298              0.884690   \n",
       "\n",
       "      heading_residual_normalized_loss    size_class_loss   \\\n",
       "682                            0.044568           0.001012   \n",
       "683                            0.049477           0.001739   \n",
       "684                            0.042016           0.001491   \n",
       "685                            0.066391           0.003661   \n",
       "686                            0.043836           0.001239   \n",
       "\n",
       "      size_residuals_normalized_loss    corner_loss    total_loss  \n",
       "682                          0.038146       0.440902     8.541579  \n",
       "683                          0.038216       0.205043     5.434377  \n",
       "684                          0.040967       0.603307    10.535904  \n",
       "685                          0.021037       0.661688    11.396776  \n",
       "686                          0.026188       0.217998     5.529815  "
      ]
     },
     "execution_count": 144,
     "metadata": {},
     "output_type": "execute_result"
    }
   ],
   "source": [
    "df2.tail()"
   ]
  },
  {
   "cell_type": "code",
   "execution_count": 5,
   "metadata": {},
   "outputs": [
    {
     "data": {
      "text/plain": [
       "array(['        timestamp ', ' epoch ', ' batches_processed ',\n",
       "       ' mean_loss ', ' segmentation_accuracy ', ' box_IOU_ground ',\n",
       "       ' box_IOU_3d ', ' box_accuracy ', ' seg_loss ',\n",
       "       ' stage1_center_loss ', ' center_loss ', ' heading_class_loss ',\n",
       "       ' heading_residual_normalized_loss ', ' size_class_loss ',\n",
       "       ' size_residuals_normalized_loss ', ' corner_loss ', ' total_loss'],\n",
       "      dtype=object)"
      ]
     },
     "execution_count": 5,
     "metadata": {},
     "output_type": "execute_result"
    }
   ],
   "source": [
    "df.columns.values"
   ]
  },
  {
   "cell_type": "code",
   "execution_count": 18,
   "metadata": {},
   "outputs": [
    {
     "data": {
      "text/plain": [
       "<matplotlib.axes._subplots.AxesSubplot at 0x7f155d0061d0>"
      ]
     },
     "execution_count": 18,
     "metadata": {},
     "output_type": "execute_result"
    },
    {
     "data": {
      "image/png": "[encoded data removed]",
      "text/plain": [
       "<Figure size 432x288 with 1 Axes>"
      ]
     },
     "metadata": {
      "needs_background": "light"
     },
     "output_type": "display_data"
    }
   ],
   "source": [
    "#df[' total_loss'].plot()\n",
    "df[' stage1_center_loss '].plot()"
   ]
  },
  {
   "cell_type": "code",
   "execution_count": 7,
   "metadata": {},
   "outputs": [
    {
     "data": {
      "text/plain": [
       "<matplotlib.axes._subplots.AxesSubplot at 0x7f155d1c6710>"
      ]
     },
     "execution_count": 7,
     "metadata": {},
     "output_type": "execute_result"
    },
    {
     "data": {
      "image/png": "[encoded data removed]",
      "text/plain": [
       "<Figure size 432x288 with 1 Axes>"
      ]
     },
     "metadata": {
      "needs_background": "light"
     },
     "output_type": "display_data"
    }
   ],
   "source": [
    "df[' segmentation_accuracy '].plot()"
   ]
  },
  {
   "cell_type": "code",
   "execution_count": 52,
   "metadata": {},
   "outputs": [],
   "source": [
    "ref_filename = 'logs/run_train-tag-total_loss_1.csv'"
   ]
  },
  {
   "cell_type": "code",
   "execution_count": 53,
   "metadata": {},
   "outputs": [],
   "source": [
    "ref_df = pd.read_csv(ref_filename)"
   ]
  },
  {
   "cell_type": "code",
   "execution_count": 54,
   "metadata": {
    "scrolled": true
   },
   "outputs": [
    {
     "data": {
      "text/plain": [
       "<matplotlib.axes._subplots.AxesSubplot at 0x7f08118920b8>"
      ]
     },
     "execution_count": 54,
     "metadata": {},
     "output_type": "execute_result"
    },
    {
     "data": {
      "image/png": "[encoded data removed]",
      "text/plain": [
       "<Figure size 432x288 with 1 Axes>"
      ]
     },
     "metadata": {
      "needs_background": "light"
     },
     "output_type": "display_data"
    }
   ],
   "source": [
    "ref_df.Value.plot()\n",
    "#ref_df"
   ]
  },
  {
   "cell_type": "code",
   "execution_count": 27,
   "metadata": {},
   "outputs": [],
   "source": [
    "import torch"
   ]
  },
  {
   "cell_type": "code",
   "execution_count": 29,
   "metadata": {},
   "outputs": [],
   "source": [
    "x = torch.FloatTensor(10,20,4)\n"
   ]
  },
  {
   "cell_type": "code",
   "execution_count": 30,
   "metadata": {},
   "outputs": [
    {
     "data": {
      "text/plain": [
       "torch.Size([10, 20, 3])"
      ]
     },
     "execution_count": 30,
     "metadata": {},
     "output_type": "execute_result"
    }
   ],
   "source": [
    "x.narrow(2, 0, 3).size()"
   ]
  },
  {
   "cell_type": "code",
   "execution_count": null,
   "metadata": {},
   "outputs": [],
   "source": []
  }
 ],
 "metadata": {
  "kernelspec": {
   "display_name": "Python 3",
   "language": "python",
   "name": "python3"
  },
  "language_info": {
   "codemirror_mode": {
    "name": "ipython",
    "version": 3
   },
   "file_extension": ".py",
   "mimetype": "text/x-python",
   "name": "python",
   "nbconvert_exporter": "python",
   "pygments_lexer": "ipython3",
   "version": "3.6.7"
  }
 },
 "nbformat": 4,
 "nbformat_minor": 2
}
